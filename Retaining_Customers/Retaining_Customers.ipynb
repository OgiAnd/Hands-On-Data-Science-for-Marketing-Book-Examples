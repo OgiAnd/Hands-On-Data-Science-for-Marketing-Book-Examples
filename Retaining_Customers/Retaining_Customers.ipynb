{
 "cells": [
  {
   "cell_type": "markdown",
   "metadata": {},
   "source": [
    "#### Import Libraries"
   ]
  },
  {
   "cell_type": "code",
   "execution_count": 1,
   "metadata": {},
   "outputs": [],
   "source": [
    "import numpy as np\n",
    "import pandas as pd\n",
    "import matplotlib.pyplot as plt"
   ]
  },
  {
   "cell_type": "code",
   "execution_count": 2,
   "metadata": {},
   "outputs": [],
   "source": [
    "%matplotlib inline"
   ]
  },
  {
   "cell_type": "markdown",
   "metadata": {},
   "source": [
    "#### Import Data"
   ]
  },
  {
   "cell_type": "code",
   "execution_count": 3,
   "metadata": {},
   "outputs": [],
   "source": [
    "df = pd.read_csv('Data/WA_Fn-UseC_-Telco-Customer-Churn.csv')"
   ]
  },
  {
   "cell_type": "code",
   "execution_count": 4,
   "metadata": {},
   "outputs": [
    {
     "data": {
      "text/html": [
       "<div>\n",
       "<style scoped>\n",
       "    .dataframe tbody tr th:only-of-type {\n",
       "        vertical-align: middle;\n",
       "    }\n",
       "\n",
       "    .dataframe tbody tr th {\n",
       "        vertical-align: top;\n",
       "    }\n",
       "\n",
       "    .dataframe thead th {\n",
       "        text-align: right;\n",
       "    }\n",
       "</style>\n",
       "<table border=\"1\" class=\"dataframe\">\n",
       "  <thead>\n",
       "    <tr style=\"text-align: right;\">\n",
       "      <th></th>\n",
       "      <th>customerID</th>\n",
       "      <th>gender</th>\n",
       "      <th>SeniorCitizen</th>\n",
       "      <th>Partner</th>\n",
       "      <th>Dependents</th>\n",
       "      <th>tenure</th>\n",
       "      <th>PhoneService</th>\n",
       "      <th>MultipleLines</th>\n",
       "      <th>InternetService</th>\n",
       "      <th>OnlineSecurity</th>\n",
       "      <th>...</th>\n",
       "      <th>DeviceProtection</th>\n",
       "      <th>TechSupport</th>\n",
       "      <th>StreamingTV</th>\n",
       "      <th>StreamingMovies</th>\n",
       "      <th>Contract</th>\n",
       "      <th>PaperlessBilling</th>\n",
       "      <th>PaymentMethod</th>\n",
       "      <th>MonthlyCharges</th>\n",
       "      <th>TotalCharges</th>\n",
       "      <th>Churn</th>\n",
       "    </tr>\n",
       "  </thead>\n",
       "  <tbody>\n",
       "    <tr>\n",
       "      <th>0</th>\n",
       "      <td>7590-VHVEG</td>\n",
       "      <td>Female</td>\n",
       "      <td>0</td>\n",
       "      <td>Yes</td>\n",
       "      <td>No</td>\n",
       "      <td>1</td>\n",
       "      <td>No</td>\n",
       "      <td>No phone service</td>\n",
       "      <td>DSL</td>\n",
       "      <td>No</td>\n",
       "      <td>...</td>\n",
       "      <td>No</td>\n",
       "      <td>No</td>\n",
       "      <td>No</td>\n",
       "      <td>No</td>\n",
       "      <td>Month-to-month</td>\n",
       "      <td>Yes</td>\n",
       "      <td>Electronic check</td>\n",
       "      <td>29.85</td>\n",
       "      <td>29.85</td>\n",
       "      <td>No</td>\n",
       "    </tr>\n",
       "    <tr>\n",
       "      <th>1</th>\n",
       "      <td>5575-GNVDE</td>\n",
       "      <td>Male</td>\n",
       "      <td>0</td>\n",
       "      <td>No</td>\n",
       "      <td>No</td>\n",
       "      <td>34</td>\n",
       "      <td>Yes</td>\n",
       "      <td>No</td>\n",
       "      <td>DSL</td>\n",
       "      <td>Yes</td>\n",
       "      <td>...</td>\n",
       "      <td>Yes</td>\n",
       "      <td>No</td>\n",
       "      <td>No</td>\n",
       "      <td>No</td>\n",
       "      <td>One year</td>\n",
       "      <td>No</td>\n",
       "      <td>Mailed check</td>\n",
       "      <td>56.95</td>\n",
       "      <td>1889.5</td>\n",
       "      <td>No</td>\n",
       "    </tr>\n",
       "    <tr>\n",
       "      <th>2</th>\n",
       "      <td>3668-QPYBK</td>\n",
       "      <td>Male</td>\n",
       "      <td>0</td>\n",
       "      <td>No</td>\n",
       "      <td>No</td>\n",
       "      <td>2</td>\n",
       "      <td>Yes</td>\n",
       "      <td>No</td>\n",
       "      <td>DSL</td>\n",
       "      <td>Yes</td>\n",
       "      <td>...</td>\n",
       "      <td>No</td>\n",
       "      <td>No</td>\n",
       "      <td>No</td>\n",
       "      <td>No</td>\n",
       "      <td>Month-to-month</td>\n",
       "      <td>Yes</td>\n",
       "      <td>Mailed check</td>\n",
       "      <td>53.85</td>\n",
       "      <td>108.15</td>\n",
       "      <td>Yes</td>\n",
       "    </tr>\n",
       "    <tr>\n",
       "      <th>3</th>\n",
       "      <td>7795-CFOCW</td>\n",
       "      <td>Male</td>\n",
       "      <td>0</td>\n",
       "      <td>No</td>\n",
       "      <td>No</td>\n",
       "      <td>45</td>\n",
       "      <td>No</td>\n",
       "      <td>No phone service</td>\n",
       "      <td>DSL</td>\n",
       "      <td>Yes</td>\n",
       "      <td>...</td>\n",
       "      <td>Yes</td>\n",
       "      <td>Yes</td>\n",
       "      <td>No</td>\n",
       "      <td>No</td>\n",
       "      <td>One year</td>\n",
       "      <td>No</td>\n",
       "      <td>Bank transfer (automatic)</td>\n",
       "      <td>42.30</td>\n",
       "      <td>1840.75</td>\n",
       "      <td>No</td>\n",
       "    </tr>\n",
       "    <tr>\n",
       "      <th>4</th>\n",
       "      <td>9237-HQITU</td>\n",
       "      <td>Female</td>\n",
       "      <td>0</td>\n",
       "      <td>No</td>\n",
       "      <td>No</td>\n",
       "      <td>2</td>\n",
       "      <td>Yes</td>\n",
       "      <td>No</td>\n",
       "      <td>Fiber optic</td>\n",
       "      <td>No</td>\n",
       "      <td>...</td>\n",
       "      <td>No</td>\n",
       "      <td>No</td>\n",
       "      <td>No</td>\n",
       "      <td>No</td>\n",
       "      <td>Month-to-month</td>\n",
       "      <td>Yes</td>\n",
       "      <td>Electronic check</td>\n",
       "      <td>70.70</td>\n",
       "      <td>151.65</td>\n",
       "      <td>Yes</td>\n",
       "    </tr>\n",
       "  </tbody>\n",
       "</table>\n",
       "<p>5 rows × 21 columns</p>\n",
       "</div>"
      ],
      "text/plain": [
       "   customerID  gender  SeniorCitizen Partner Dependents  tenure PhoneService  \\\n",
       "0  7590-VHVEG  Female              0     Yes         No       1           No   \n",
       "1  5575-GNVDE    Male              0      No         No      34          Yes   \n",
       "2  3668-QPYBK    Male              0      No         No       2          Yes   \n",
       "3  7795-CFOCW    Male              0      No         No      45           No   \n",
       "4  9237-HQITU  Female              0      No         No       2          Yes   \n",
       "\n",
       "      MultipleLines InternetService OnlineSecurity  ...  DeviceProtection  \\\n",
       "0  No phone service             DSL             No  ...                No   \n",
       "1                No             DSL            Yes  ...               Yes   \n",
       "2                No             DSL            Yes  ...                No   \n",
       "3  No phone service             DSL            Yes  ...               Yes   \n",
       "4                No     Fiber optic             No  ...                No   \n",
       "\n",
       "  TechSupport StreamingTV StreamingMovies        Contract PaperlessBilling  \\\n",
       "0          No          No              No  Month-to-month              Yes   \n",
       "1          No          No              No        One year               No   \n",
       "2          No          No              No  Month-to-month              Yes   \n",
       "3         Yes          No              No        One year               No   \n",
       "4          No          No              No  Month-to-month              Yes   \n",
       "\n",
       "               PaymentMethod MonthlyCharges  TotalCharges Churn  \n",
       "0           Electronic check          29.85         29.85    No  \n",
       "1               Mailed check          56.95        1889.5    No  \n",
       "2               Mailed check          53.85        108.15   Yes  \n",
       "3  Bank transfer (automatic)          42.30       1840.75    No  \n",
       "4           Electronic check          70.70        151.65   Yes  \n",
       "\n",
       "[5 rows x 21 columns]"
      ]
     },
     "execution_count": 4,
     "metadata": {},
     "output_type": "execute_result"
    }
   ],
   "source": [
    "df.head()"
   ]
  },
  {
   "cell_type": "code",
   "execution_count": 5,
   "metadata": {},
   "outputs": [
    {
     "data": {
      "text/plain": [
       "(7043, 21)"
      ]
     },
     "execution_count": 5,
     "metadata": {},
     "output_type": "execute_result"
    }
   ],
   "source": [
    "df.shape"
   ]
  },
  {
   "cell_type": "markdown",
   "metadata": {},
   "source": [
    "#### Data QA"
   ]
  },
  {
   "cell_type": "markdown",
   "metadata": {},
   "source": [
    "##### - Encoding target var: Churn"
   ]
  },
  {
   "cell_type": "code",
   "execution_count": 6,
   "metadata": {},
   "outputs": [],
   "source": [
    "df['Churn'] = df['Churn'].apply(lambda x: 1 if x == 'Yes' else 0)"
   ]
  },
  {
   "cell_type": "code",
   "execution_count": 7,
   "metadata": {},
   "outputs": [
    {
     "data": {
      "text/plain": [
       "0.2653698707936959"
      ]
     },
     "execution_count": 7,
     "metadata": {},
     "output_type": "execute_result"
    }
   ],
   "source": [
    "df['Churn'].mean()"
   ]
  },
  {
   "cell_type": "markdown",
   "metadata": {},
   "source": [
    "##### - TotalCharges"
   ]
  },
  {
   "cell_type": "code",
   "execution_count": 8,
   "metadata": {},
   "outputs": [],
   "source": [
    "df['TotalCharges'] = df['TotalCharges'].replace(' ', np.nan).astype(float)"
   ]
  },
  {
   "cell_type": "code",
   "execution_count": 9,
   "metadata": {},
   "outputs": [
    {
     "data": {
      "text/plain": [
       "(7043, 21)"
      ]
     },
     "execution_count": 9,
     "metadata": {},
     "output_type": "execute_result"
    }
   ],
   "source": [
    "df.shape"
   ]
  },
  {
   "cell_type": "code",
   "execution_count": 10,
   "metadata": {},
   "outputs": [
    {
     "data": {
      "text/plain": [
       "(7032, 21)"
      ]
     },
     "execution_count": 10,
     "metadata": {},
     "output_type": "execute_result"
    }
   ],
   "source": [
    "df.dropna().shape"
   ]
  },
  {
   "cell_type": "code",
   "execution_count": 11,
   "metadata": {},
   "outputs": [],
   "source": [
    "df = df.dropna()"
   ]
  },
  {
   "cell_type": "markdown",
   "metadata": {},
   "source": [
    "##### - Continuous Vars"
   ]
  },
  {
   "cell_type": "code",
   "execution_count": 12,
   "metadata": {},
   "outputs": [
    {
     "data": {
      "text/html": [
       "<div>\n",
       "<style scoped>\n",
       "    .dataframe tbody tr th:only-of-type {\n",
       "        vertical-align: middle;\n",
       "    }\n",
       "\n",
       "    .dataframe tbody tr th {\n",
       "        vertical-align: top;\n",
       "    }\n",
       "\n",
       "    .dataframe thead th {\n",
       "        text-align: right;\n",
       "    }\n",
       "</style>\n",
       "<table border=\"1\" class=\"dataframe\">\n",
       "  <thead>\n",
       "    <tr style=\"text-align: right;\">\n",
       "      <th></th>\n",
       "      <th>tenure</th>\n",
       "      <th>MonthlyCharges</th>\n",
       "      <th>TotalCharges</th>\n",
       "    </tr>\n",
       "  </thead>\n",
       "  <tbody>\n",
       "    <tr>\n",
       "      <th>count</th>\n",
       "      <td>7032.000000</td>\n",
       "      <td>7032.000000</td>\n",
       "      <td>7032.000000</td>\n",
       "    </tr>\n",
       "    <tr>\n",
       "      <th>mean</th>\n",
       "      <td>32.421786</td>\n",
       "      <td>64.798208</td>\n",
       "      <td>2283.300441</td>\n",
       "    </tr>\n",
       "    <tr>\n",
       "      <th>std</th>\n",
       "      <td>24.545260</td>\n",
       "      <td>30.085974</td>\n",
       "      <td>2266.771362</td>\n",
       "    </tr>\n",
       "    <tr>\n",
       "      <th>min</th>\n",
       "      <td>1.000000</td>\n",
       "      <td>18.250000</td>\n",
       "      <td>18.800000</td>\n",
       "    </tr>\n",
       "    <tr>\n",
       "      <th>25%</th>\n",
       "      <td>9.000000</td>\n",
       "      <td>35.587500</td>\n",
       "      <td>401.450000</td>\n",
       "    </tr>\n",
       "    <tr>\n",
       "      <th>50%</th>\n",
       "      <td>29.000000</td>\n",
       "      <td>70.350000</td>\n",
       "      <td>1397.475000</td>\n",
       "    </tr>\n",
       "    <tr>\n",
       "      <th>75%</th>\n",
       "      <td>55.000000</td>\n",
       "      <td>89.862500</td>\n",
       "      <td>3794.737500</td>\n",
       "    </tr>\n",
       "    <tr>\n",
       "      <th>max</th>\n",
       "      <td>72.000000</td>\n",
       "      <td>118.750000</td>\n",
       "      <td>8684.800000</td>\n",
       "    </tr>\n",
       "  </tbody>\n",
       "</table>\n",
       "</div>"
      ],
      "text/plain": [
       "            tenure  MonthlyCharges  TotalCharges\n",
       "count  7032.000000     7032.000000   7032.000000\n",
       "mean     32.421786       64.798208   2283.300441\n",
       "std      24.545260       30.085974   2266.771362\n",
       "min       1.000000       18.250000     18.800000\n",
       "25%       9.000000       35.587500    401.450000\n",
       "50%      29.000000       70.350000   1397.475000\n",
       "75%      55.000000       89.862500   3794.737500\n",
       "max      72.000000      118.750000   8684.800000"
      ]
     },
     "execution_count": 12,
     "metadata": {},
     "output_type": "execute_result"
    }
   ],
   "source": [
    "df[['tenure', 'MonthlyCharges', 'TotalCharges']].describe()"
   ]
  },
  {
   "cell_type": "code",
   "execution_count": 13,
   "metadata": {},
   "outputs": [],
   "source": [
    "df['MonthlyCharges'] = np.log(df['MonthlyCharges'])\n",
    "df['MonthlyCharges'] = (df['MonthlyCharges'] - df['MonthlyCharges'].mean())/df['MonthlyCharges'].std()\n",
    "\n",
    "df['TotalCharges'] = np.log(df['TotalCharges'])\n",
    "df['TotalCharges'] = (df['TotalCharges'] - df['TotalCharges'].mean())/df['TotalCharges'].std()\n",
    "\n",
    "df['tenure'] = (df['tenure'] - df['tenure'].mean())/df['tenure'].std()"
   ]
  },
  {
   "cell_type": "code",
   "execution_count": 14,
   "metadata": {},
   "outputs": [
    {
     "data": {
      "text/html": [
       "<div>\n",
       "<style scoped>\n",
       "    .dataframe tbody tr th:only-of-type {\n",
       "        vertical-align: middle;\n",
       "    }\n",
       "\n",
       "    .dataframe tbody tr th {\n",
       "        vertical-align: top;\n",
       "    }\n",
       "\n",
       "    .dataframe thead th {\n",
       "        text-align: right;\n",
       "    }\n",
       "</style>\n",
       "<table border=\"1\" class=\"dataframe\">\n",
       "  <thead>\n",
       "    <tr style=\"text-align: right;\">\n",
       "      <th></th>\n",
       "      <th>tenure</th>\n",
       "      <th>MonthlyCharges</th>\n",
       "      <th>TotalCharges</th>\n",
       "    </tr>\n",
       "  </thead>\n",
       "  <tbody>\n",
       "    <tr>\n",
       "      <th>count</th>\n",
       "      <td>7.032000e+03</td>\n",
       "      <td>7.032000e+03</td>\n",
       "      <td>7.032000e+03</td>\n",
       "    </tr>\n",
       "    <tr>\n",
       "      <th>mean</th>\n",
       "      <td>-1.126643e-16</td>\n",
       "      <td>-9.851808e-16</td>\n",
       "      <td>-2.627149e-16</td>\n",
       "    </tr>\n",
       "    <tr>\n",
       "      <th>std</th>\n",
       "      <td>1.000000e+00</td>\n",
       "      <td>1.000000e+00</td>\n",
       "      <td>1.000000e+00</td>\n",
       "    </tr>\n",
       "    <tr>\n",
       "      <th>min</th>\n",
       "      <td>-1.280157e+00</td>\n",
       "      <td>-1.882268e+00</td>\n",
       "      <td>-2.579056e+00</td>\n",
       "    </tr>\n",
       "    <tr>\n",
       "      <th>25%</th>\n",
       "      <td>-9.542285e-01</td>\n",
       "      <td>-7.583727e-01</td>\n",
       "      <td>-6.080585e-01</td>\n",
       "    </tr>\n",
       "    <tr>\n",
       "      <th>50%</th>\n",
       "      <td>-1.394072e-01</td>\n",
       "      <td>3.885103e-01</td>\n",
       "      <td>1.950521e-01</td>\n",
       "    </tr>\n",
       "    <tr>\n",
       "      <th>75%</th>\n",
       "      <td>9.198605e-01</td>\n",
       "      <td>8.004829e-01</td>\n",
       "      <td>8.382338e-01</td>\n",
       "    </tr>\n",
       "    <tr>\n",
       "      <th>max</th>\n",
       "      <td>1.612459e+00</td>\n",
       "      <td>1.269576e+00</td>\n",
       "      <td>1.371323e+00</td>\n",
       "    </tr>\n",
       "  </tbody>\n",
       "</table>\n",
       "</div>"
      ],
      "text/plain": [
       "             tenure  MonthlyCharges  TotalCharges\n",
       "count  7.032000e+03    7.032000e+03  7.032000e+03\n",
       "mean  -1.126643e-16   -9.851808e-16 -2.627149e-16\n",
       "std    1.000000e+00    1.000000e+00  1.000000e+00\n",
       "min   -1.280157e+00   -1.882268e+00 -2.579056e+00\n",
       "25%   -9.542285e-01   -7.583727e-01 -6.080585e-01\n",
       "50%   -1.394072e-01    3.885103e-01  1.950521e-01\n",
       "75%    9.198605e-01    8.004829e-01  8.382338e-01\n",
       "max    1.612459e+00    1.269576e+00  1.371323e+00"
      ]
     },
     "execution_count": 14,
     "metadata": {},
     "output_type": "execute_result"
    }
   ],
   "source": [
    "df[['tenure', 'MonthlyCharges', 'TotalCharges']].describe()"
   ]
  },
  {
   "cell_type": "code",
   "execution_count": 15,
   "metadata": {},
   "outputs": [
    {
     "data": {
      "text/plain": [
       "['SeniorCitizen', 'tenure', 'MonthlyCharges', 'TotalCharges', 'Churn']"
      ]
     },
     "execution_count": 15,
     "metadata": {},
     "output_type": "execute_result"
    }
   ],
   "source": [
    "continuous_vars = list(df.describe().columns)\n",
    "continuous_vars"
   ]
  },
  {
   "cell_type": "markdown",
   "metadata": {},
   "source": [
    "##### - One-Hot Encoding"
   ]
  },
  {
   "cell_type": "code",
   "execution_count": 16,
   "metadata": {},
   "outputs": [
    {
     "name": "stdout",
     "output_type": "stream",
     "text": [
      "customerID 7032\n",
      "gender 2\n",
      "SeniorCitizen 2\n",
      "Partner 2\n",
      "Dependents 2\n",
      "tenure 72\n",
      "PhoneService 2\n",
      "MultipleLines 3\n",
      "InternetService 3\n",
      "OnlineSecurity 3\n",
      "OnlineBackup 3\n",
      "DeviceProtection 3\n",
      "TechSupport 3\n",
      "StreamingTV 3\n",
      "StreamingMovies 3\n",
      "Contract 3\n",
      "PaperlessBilling 2\n",
      "PaymentMethod 4\n",
      "MonthlyCharges 1584\n",
      "TotalCharges 6530\n",
      "Churn 2\n"
     ]
    }
   ],
   "source": [
    "for col in list(df.columns):\n",
    "    print(col, df[col].nunique())"
   ]
  },
  {
   "cell_type": "code",
   "execution_count": 17,
   "metadata": {},
   "outputs": [
    {
     "data": {
      "image/png": "[encoded data removed]",
      "text/plain": [
       "<Figure size 576x432 with 1 Axes>"
      ]
     },
     "metadata": {
      "needs_background": "light"
     },
     "output_type": "display_data"
    },
    {
     "data": {
      "image/png": "[encoded data removed]",
      "text/plain": [
       "<Figure size 576x432 with 1 Axes>"
      ]
     },
     "metadata": {
      "needs_background": "light"
     },
     "output_type": "display_data"
    },
    {
     "data": {
      "image/png": "[encoded data removed]",
      "text/plain": [
       "<Figure size 576x432 with 1 Axes>"
      ]
     },
     "metadata": {
      "needs_background": "light"
     },
     "output_type": "display_data"
    }
   ],
   "source": [
    "df.groupby('gender').count()['customerID'].plot(\n",
    "    kind='bar', color='skyblue', grid=True, figsize=(8,6), title='Gender'\n",
    ")\n",
    "plt.show()\n",
    "\n",
    "df.groupby('InternetService').count()['customerID'].plot(\n",
    "    kind='bar', color='skyblue', grid=True, figsize=(8,6), title='Internet Service'\n",
    ")\n",
    "plt.show()\n",
    "\n",
    "df.groupby('PaymentMethod').count()['customerID'].plot(\n",
    "    kind='bar', color='skyblue', grid=True, figsize=(8,6), title='Payment Method'\n",
    ")\n",
    "plt.show()"
   ]
  },
  {
   "cell_type": "code",
   "execution_count": 18,
   "metadata": {},
   "outputs": [],
   "source": [
    "dummy_cols = []\n",
    "\n",
    "sample_set = df[['tenure', 'MonthlyCharges', 'TotalCharges', 'Churn']].copy(deep=True)\n",
    "\n",
    "for col in list(df.columns):\n",
    "    if col not in ['tenure', 'MonthlyCharges', 'TotalCharges', 'Churn'] and df[col].nunique() < 5:\n",
    "        dummy_vars = pd.get_dummies(df[col])\n",
    "        dummy_vars.columns = [col+str(x) for x in dummy_vars.columns]        \n",
    "        sample_set = pd.concat([sample_set, dummy_vars], axis=1)"
   ]
  },
  {
   "cell_type": "code",
   "execution_count": 19,
   "metadata": {},
   "outputs": [
    {
     "data": {
      "text/html": [
       "<div>\n",
       "<style scoped>\n",
       "    .dataframe tbody tr th:only-of-type {\n",
       "        vertical-align: middle;\n",
       "    }\n",
       "\n",
       "    .dataframe tbody tr th {\n",
       "        vertical-align: top;\n",
       "    }\n",
       "\n",
       "    .dataframe thead th {\n",
       "        text-align: right;\n",
       "    }\n",
       "</style>\n",
       "<table border=\"1\" class=\"dataframe\">\n",
       "  <thead>\n",
       "    <tr style=\"text-align: right;\">\n",
       "      <th></th>\n",
       "      <th>tenure</th>\n",
       "      <th>MonthlyCharges</th>\n",
       "      <th>TotalCharges</th>\n",
       "      <th>Churn</th>\n",
       "      <th>genderFemale</th>\n",
       "      <th>genderMale</th>\n",
       "      <th>SeniorCitizen0</th>\n",
       "      <th>SeniorCitizen1</th>\n",
       "      <th>PartnerNo</th>\n",
       "      <th>PartnerYes</th>\n",
       "      <th>...</th>\n",
       "      <th>StreamingMoviesYes</th>\n",
       "      <th>ContractMonth-to-month</th>\n",
       "      <th>ContractOne year</th>\n",
       "      <th>ContractTwo year</th>\n",
       "      <th>PaperlessBillingNo</th>\n",
       "      <th>PaperlessBillingYes</th>\n",
       "      <th>PaymentMethodBank transfer (automatic)</th>\n",
       "      <th>PaymentMethodCredit card (automatic)</th>\n",
       "      <th>PaymentMethodElectronic check</th>\n",
       "      <th>PaymentMethodMailed check</th>\n",
       "    </tr>\n",
       "  </thead>\n",
       "  <tbody>\n",
       "    <tr>\n",
       "      <th>0</th>\n",
       "      <td>-1.280157</td>\n",
       "      <td>-1.054244</td>\n",
       "      <td>-2.281382</td>\n",
       "      <td>0</td>\n",
       "      <td>1</td>\n",
       "      <td>0</td>\n",
       "      <td>1</td>\n",
       "      <td>0</td>\n",
       "      <td>0</td>\n",
       "      <td>1</td>\n",
       "      <td>...</td>\n",
       "      <td>0</td>\n",
       "      <td>1</td>\n",
       "      <td>0</td>\n",
       "      <td>0</td>\n",
       "      <td>0</td>\n",
       "      <td>1</td>\n",
       "      <td>0</td>\n",
       "      <td>0</td>\n",
       "      <td>1</td>\n",
       "      <td>0</td>\n",
       "    </tr>\n",
       "    <tr>\n",
       "      <th>1</th>\n",
       "      <td>0.064298</td>\n",
       "      <td>0.032896</td>\n",
       "      <td>0.389269</td>\n",
       "      <td>0</td>\n",
       "      <td>0</td>\n",
       "      <td>1</td>\n",
       "      <td>1</td>\n",
       "      <td>0</td>\n",
       "      <td>1</td>\n",
       "      <td>0</td>\n",
       "      <td>...</td>\n",
       "      <td>0</td>\n",
       "      <td>0</td>\n",
       "      <td>1</td>\n",
       "      <td>0</td>\n",
       "      <td>1</td>\n",
       "      <td>0</td>\n",
       "      <td>0</td>\n",
       "      <td>0</td>\n",
       "      <td>0</td>\n",
       "      <td>1</td>\n",
       "    </tr>\n",
       "    <tr>\n",
       "      <th>2</th>\n",
       "      <td>-1.239416</td>\n",
       "      <td>-0.061298</td>\n",
       "      <td>-1.452520</td>\n",
       "      <td>1</td>\n",
       "      <td>0</td>\n",
       "      <td>1</td>\n",
       "      <td>1</td>\n",
       "      <td>0</td>\n",
       "      <td>1</td>\n",
       "      <td>0</td>\n",
       "      <td>...</td>\n",
       "      <td>0</td>\n",
       "      <td>1</td>\n",
       "      <td>0</td>\n",
       "      <td>0</td>\n",
       "      <td>0</td>\n",
       "      <td>1</td>\n",
       "      <td>0</td>\n",
       "      <td>0</td>\n",
       "      <td>0</td>\n",
       "      <td>1</td>\n",
       "    </tr>\n",
       "    <tr>\n",
       "      <th>3</th>\n",
       "      <td>0.512450</td>\n",
       "      <td>-0.467578</td>\n",
       "      <td>0.372439</td>\n",
       "      <td>0</td>\n",
       "      <td>0</td>\n",
       "      <td>1</td>\n",
       "      <td>1</td>\n",
       "      <td>0</td>\n",
       "      <td>1</td>\n",
       "      <td>0</td>\n",
       "      <td>...</td>\n",
       "      <td>0</td>\n",
       "      <td>0</td>\n",
       "      <td>1</td>\n",
       "      <td>0</td>\n",
       "      <td>1</td>\n",
       "      <td>0</td>\n",
       "      <td>1</td>\n",
       "      <td>0</td>\n",
       "      <td>0</td>\n",
       "      <td>0</td>\n",
       "    </tr>\n",
       "    <tr>\n",
       "      <th>4</th>\n",
       "      <td>-1.239416</td>\n",
       "      <td>0.396862</td>\n",
       "      <td>-1.234860</td>\n",
       "      <td>1</td>\n",
       "      <td>1</td>\n",
       "      <td>0</td>\n",
       "      <td>1</td>\n",
       "      <td>0</td>\n",
       "      <td>1</td>\n",
       "      <td>0</td>\n",
       "      <td>...</td>\n",
       "      <td>0</td>\n",
       "      <td>1</td>\n",
       "      <td>0</td>\n",
       "      <td>0</td>\n",
       "      <td>0</td>\n",
       "      <td>1</td>\n",
       "      <td>0</td>\n",
       "      <td>0</td>\n",
       "      <td>1</td>\n",
       "      <td>0</td>\n",
       "    </tr>\n",
       "    <tr>\n",
       "      <th>5</th>\n",
       "      <td>-0.994970</td>\n",
       "      <td>0.974468</td>\n",
       "      <td>-0.147808</td>\n",
       "      <td>1</td>\n",
       "      <td>1</td>\n",
       "      <td>0</td>\n",
       "      <td>1</td>\n",
       "      <td>0</td>\n",
       "      <td>1</td>\n",
       "      <td>0</td>\n",
       "      <td>...</td>\n",
       "      <td>1</td>\n",
       "      <td>1</td>\n",
       "      <td>0</td>\n",
       "      <td>0</td>\n",
       "      <td>0</td>\n",
       "      <td>1</td>\n",
       "      <td>0</td>\n",
       "      <td>0</td>\n",
       "      <td>1</td>\n",
       "      <td>0</td>\n",
       "    </tr>\n",
       "    <tr>\n",
       "      <th>6</th>\n",
       "      <td>-0.424595</td>\n",
       "      <td>0.786142</td>\n",
       "      <td>0.409363</td>\n",
       "      <td>0</td>\n",
       "      <td>0</td>\n",
       "      <td>1</td>\n",
       "      <td>1</td>\n",
       "      <td>0</td>\n",
       "      <td>1</td>\n",
       "      <td>0</td>\n",
       "      <td>...</td>\n",
       "      <td>0</td>\n",
       "      <td>1</td>\n",
       "      <td>0</td>\n",
       "      <td>0</td>\n",
       "      <td>0</td>\n",
       "      <td>1</td>\n",
       "      <td>0</td>\n",
       "      <td>1</td>\n",
       "      <td>0</td>\n",
       "      <td>0</td>\n",
       "    </tr>\n",
       "    <tr>\n",
       "      <th>7</th>\n",
       "      <td>-0.913487</td>\n",
       "      <td>-1.059891</td>\n",
       "      <td>-0.791550</td>\n",
       "      <td>0</td>\n",
       "      <td>1</td>\n",
       "      <td>0</td>\n",
       "      <td>1</td>\n",
       "      <td>0</td>\n",
       "      <td>1</td>\n",
       "      <td>0</td>\n",
       "      <td>...</td>\n",
       "      <td>0</td>\n",
       "      <td>1</td>\n",
       "      <td>0</td>\n",
       "      <td>0</td>\n",
       "      <td>1</td>\n",
       "      <td>0</td>\n",
       "      <td>0</td>\n",
       "      <td>0</td>\n",
       "      <td>0</td>\n",
       "      <td>1</td>\n",
       "    </tr>\n",
       "    <tr>\n",
       "      <th>8</th>\n",
       "      <td>-0.180148</td>\n",
       "      <td>1.059269</td>\n",
       "      <td>0.696733</td>\n",
       "      <td>1</td>\n",
       "      <td>1</td>\n",
       "      <td>0</td>\n",
       "      <td>1</td>\n",
       "      <td>0</td>\n",
       "      <td>0</td>\n",
       "      <td>1</td>\n",
       "      <td>...</td>\n",
       "      <td>1</td>\n",
       "      <td>1</td>\n",
       "      <td>0</td>\n",
       "      <td>0</td>\n",
       "      <td>0</td>\n",
       "      <td>1</td>\n",
       "      <td>0</td>\n",
       "      <td>0</td>\n",
       "      <td>1</td>\n",
       "      <td>0</td>\n",
       "    </tr>\n",
       "    <tr>\n",
       "      <th>9</th>\n",
       "      <td>1.205048</td>\n",
       "      <td>0.009088</td>\n",
       "      <td>0.783956</td>\n",
       "      <td>0</td>\n",
       "      <td>0</td>\n",
       "      <td>1</td>\n",
       "      <td>1</td>\n",
       "      <td>0</td>\n",
       "      <td>1</td>\n",
       "      <td>0</td>\n",
       "      <td>...</td>\n",
       "      <td>0</td>\n",
       "      <td>0</td>\n",
       "      <td>1</td>\n",
       "      <td>0</td>\n",
       "      <td>1</td>\n",
       "      <td>0</td>\n",
       "      <td>1</td>\n",
       "      <td>0</td>\n",
       "      <td>0</td>\n",
       "      <td>0</td>\n",
       "    </tr>\n",
       "  </tbody>\n",
       "</table>\n",
       "<p>10 rows × 47 columns</p>\n",
       "</div>"
      ],
      "text/plain": [
       "     tenure  MonthlyCharges  TotalCharges  Churn  genderFemale  genderMale  \\\n",
       "0 -1.280157       -1.054244     -2.281382      0             1           0   \n",
       "1  0.064298        0.032896      0.389269      0             0           1   \n",
       "2 -1.239416       -0.061298     -1.452520      1             0           1   \n",
       "3  0.512450       -0.467578      0.372439      0             0           1   \n",
       "4 -1.239416        0.396862     -1.234860      1             1           0   \n",
       "5 -0.994970        0.974468     -0.147808      1             1           0   \n",
       "6 -0.424595        0.786142      0.409363      0             0           1   \n",
       "7 -0.913487       -1.059891     -0.791550      0             1           0   \n",
       "8 -0.180148        1.059269      0.696733      1             1           0   \n",
       "9  1.205048        0.009088      0.783956      0             0           1   \n",
       "\n",
       "   SeniorCitizen0  SeniorCitizen1  PartnerNo  PartnerYes  \\\n",
       "0               1               0          0           1   \n",
       "1               1               0          1           0   \n",
       "2               1               0          1           0   \n",
       "3               1               0          1           0   \n",
       "4               1               0          1           0   \n",
       "5               1               0          1           0   \n",
       "6               1               0          1           0   \n",
       "7               1               0          1           0   \n",
       "8               1               0          0           1   \n",
       "9               1               0          1           0   \n",
       "\n",
       "             ...              StreamingMoviesYes  ContractMonth-to-month  \\\n",
       "0            ...                               0                       1   \n",
       "1            ...                               0                       0   \n",
       "2            ...                               0                       1   \n",
       "3            ...                               0                       0   \n",
       "4            ...                               0                       1   \n",
       "5            ...                               1                       1   \n",
       "6            ...                               0                       1   \n",
       "7            ...                               0                       1   \n",
       "8            ...                               1                       1   \n",
       "9            ...                               0                       0   \n",
       "\n",
       "   ContractOne year  ContractTwo year  PaperlessBillingNo  \\\n",
       "0                 0                 0                   0   \n",
       "1                 1                 0                   1   \n",
       "2                 0                 0                   0   \n",
       "3                 1                 0                   1   \n",
       "4                 0                 0                   0   \n",
       "5                 0                 0                   0   \n",
       "6                 0                 0                   0   \n",
       "7                 0                 0                   1   \n",
       "8                 0                 0                   0   \n",
       "9                 1                 0                   1   \n",
       "\n",
       "   PaperlessBillingYes  PaymentMethodBank transfer (automatic)  \\\n",
       "0                    1                                       0   \n",
       "1                    0                                       0   \n",
       "2                    1                                       0   \n",
       "3                    0                                       1   \n",
       "4                    1                                       0   \n",
       "5                    1                                       0   \n",
       "6                    1                                       0   \n",
       "7                    0                                       0   \n",
       "8                    1                                       0   \n",
       "9                    0                                       1   \n",
       "\n",
       "   PaymentMethodCredit card (automatic)  PaymentMethodElectronic check  \\\n",
       "0                                     0                              1   \n",
       "1                                     0                              0   \n",
       "2                                     0                              0   \n",
       "3                                     0                              0   \n",
       "4                                     0                              1   \n",
       "5                                     0                              1   \n",
       "6                                     1                              0   \n",
       "7                                     0                              0   \n",
       "8                                     0                              1   \n",
       "9                                     0                              0   \n",
       "\n",
       "   PaymentMethodMailed check  \n",
       "0                          0  \n",
       "1                          1  \n",
       "2                          1  \n",
       "3                          0  \n",
       "4                          0  \n",
       "5                          0  \n",
       "6                          0  \n",
       "7                          1  \n",
       "8                          0  \n",
       "9                          0  \n",
       "\n",
       "[10 rows x 47 columns]"
      ]
     },
     "execution_count": 19,
     "metadata": {},
     "output_type": "execute_result"
    }
   ],
   "source": [
    "sample_set.head(10)"
   ]
  },
  {
   "cell_type": "code",
   "execution_count": 20,
   "metadata": {},
   "outputs": [
    {
     "data": {
      "text/plain": [
       "(7032, 47)"
      ]
     },
     "execution_count": 20,
     "metadata": {},
     "output_type": "execute_result"
    }
   ],
   "source": [
    "sample_set.shape"
   ]
  },
  {
   "cell_type": "code",
   "execution_count": 21,
   "metadata": {},
   "outputs": [
    {
     "data": {
      "text/plain": [
       "['tenure',\n",
       " 'MonthlyCharges',\n",
       " 'TotalCharges',\n",
       " 'Churn',\n",
       " 'genderFemale',\n",
       " 'genderMale',\n",
       " 'SeniorCitizen0',\n",
       " 'SeniorCitizen1',\n",
       " 'PartnerNo',\n",
       " 'PartnerYes',\n",
       " 'DependentsNo',\n",
       " 'DependentsYes',\n",
       " 'PhoneServiceNo',\n",
       " 'PhoneServiceYes',\n",
       " 'MultipleLinesNo',\n",
       " 'MultipleLinesNo phone service',\n",
       " 'MultipleLinesYes',\n",
       " 'InternetServiceDSL',\n",
       " 'InternetServiceFiber optic',\n",
       " 'InternetServiceNo',\n",
       " 'OnlineSecurityNo',\n",
       " 'OnlineSecurityNo internet service',\n",
       " 'OnlineSecurityYes',\n",
       " 'OnlineBackupNo',\n",
       " 'OnlineBackupNo internet service',\n",
       " 'OnlineBackupYes',\n",
       " 'DeviceProtectionNo',\n",
       " 'DeviceProtectionNo internet service',\n",
       " 'DeviceProtectionYes',\n",
       " 'TechSupportNo',\n",
       " 'TechSupportNo internet service',\n",
       " 'TechSupportYes',\n",
       " 'StreamingTVNo',\n",
       " 'StreamingTVNo internet service',\n",
       " 'StreamingTVYes',\n",
       " 'StreamingMoviesNo',\n",
       " 'StreamingMoviesNo internet service',\n",
       " 'StreamingMoviesYes',\n",
       " 'ContractMonth-to-month',\n",
       " 'ContractOne year',\n",
       " 'ContractTwo year',\n",
       " 'PaperlessBillingNo',\n",
       " 'PaperlessBillingYes',\n",
       " 'PaymentMethodBank transfer (automatic)',\n",
       " 'PaymentMethodCredit card (automatic)',\n",
       " 'PaymentMethodElectronic check',\n",
       " 'PaymentMethodMailed check']"
      ]
     },
     "execution_count": 21,
     "metadata": {},
     "output_type": "execute_result"
    }
   ],
   "source": [
    "list(sample_set.columns)"
   ]
  },
  {
   "cell_type": "markdown",
   "metadata": {},
   "source": [
    "#### Model"
   ]
  },
  {
   "cell_type": "markdown",
   "metadata": {},
   "source": [
    "#### Train Test Split the Data"
   ]
  },
  {
   "cell_type": "code",
   "execution_count": 22,
   "metadata": {},
   "outputs": [],
   "source": [
    "target_var = 'Churn'\n",
    "features = [x for x in list(sample_set.columns) if x != target_var]"
   ]
  },
  {
   "cell_type": "code",
   "execution_count": 23,
   "metadata": {},
   "outputs": [],
   "source": [
    "from keras.models import Sequential\n",
    "from keras.layers import Dense"
   ]
  },
  {
   "cell_type": "markdown",
   "metadata": {},
   "source": [
    "##### - Training a Neural Network Model"
   ]
  },
  {
   "cell_type": "code",
   "execution_count": 24,
   "metadata": {},
   "outputs": [],
   "source": [
    "model = Sequential()\n",
    "model.add(Dense(16, input_dim=len(features), activation='relu'))\n",
    "model.add(Dense(8, activation='relu'))\n",
    "model.add(Dense(1, activation='sigmoid'))"
   ]
  },
  {
   "cell_type": "code",
   "execution_count": 25,
   "metadata": {},
   "outputs": [],
   "source": [
    "model.compile(loss='binary_crossentropy', optimizer='adam', metrics=['accuracy'])"
   ]
  },
  {
   "cell_type": "code",
   "execution_count": 26,
   "metadata": {},
   "outputs": [],
   "source": [
    "from sklearn.model_selection import train_test_split"
   ]
  },
  {
   "cell_type": "code",
   "execution_count": 27,
   "metadata": {},
   "outputs": [],
   "source": [
    "X_train, X_test, y_train, y_test = train_test_split(\n",
    "    sample_set[features], \n",
    "    sample_set[target_var], \n",
    "    test_size=0.3\n",
    ")"
   ]
  },
  {
   "cell_type": "code",
   "execution_count": 28,
   "metadata": {},
   "outputs": [
    {
     "name": "stdout",
     "output_type": "stream",
     "text": [
      "Epoch 1/50\n",
      "50/50 [==============================] - 26s 2ms/step - loss: 0.6101 - accuracy: 0.6865\n",
      "Epoch 2/50\n",
      "50/50 [==============================] - 0s 3ms/step - loss: 0.4729 - accuracy: 0.7826\n",
      "Epoch 3/50\n",
      "50/50 [==============================] - 0s 3ms/step - loss: 0.4298 - accuracy: 0.7999\n",
      "Epoch 4/50\n",
      "50/50 [==============================] - 0s 2ms/step - loss: 0.4200 - accuracy: 0.8001\n",
      "Epoch 5/50\n",
      "50/50 [==============================] - 0s 2ms/step - loss: 0.4211 - accuracy: 0.8046\n",
      "Epoch 6/50\n",
      "50/50 [==============================] - 0s 1ms/step - loss: 0.4206 - accuracy: 0.8018\n",
      "Epoch 7/50\n",
      "50/50 [==============================] - 0s 1ms/step - loss: 0.4220 - accuracy: 0.8016\n",
      "Epoch 8/50\n",
      "50/50 [==============================] - 0s 2ms/step - loss: 0.4161 - accuracy: 0.8090\n",
      "Epoch 9/50\n",
      "50/50 [==============================] - 0s 2ms/step - loss: 0.4076 - accuracy: 0.8085\n",
      "Epoch 10/50\n",
      "50/50 [==============================] - 0s 2ms/step - loss: 0.4201 - accuracy: 0.7996\n",
      "Epoch 11/50\n",
      "50/50 [==============================] - 0s 2ms/step - loss: 0.4110 - accuracy: 0.8071\n",
      "Epoch 12/50\n",
      "50/50 [==============================] - 0s 2ms/step - loss: 0.4061 - accuracy: 0.8129\n",
      "Epoch 13/50\n",
      "50/50 [==============================] - 0s 2ms/step - loss: 0.4105 - accuracy: 0.8077\n",
      "Epoch 14/50\n",
      "50/50 [==============================] - 0s 2ms/step - loss: 0.4089 - accuracy: 0.8150\n",
      "Epoch 15/50\n",
      "50/50 [==============================] - 0s 2ms/step - loss: 0.4038 - accuracy: 0.8102\n",
      "Epoch 16/50\n",
      "50/50 [==============================] - 0s 3ms/step - loss: 0.4076 - accuracy: 0.8045\n",
      "Epoch 17/50\n",
      "50/50 [==============================] - 0s 2ms/step - loss: 0.4134 - accuracy: 0.8009\n",
      "Epoch 18/50\n",
      "50/50 [==============================] - 0s 3ms/step - loss: 0.3948 - accuracy: 0.8116\n",
      "Epoch 19/50\n",
      "50/50 [==============================] - 0s 2ms/step - loss: 0.4062 - accuracy: 0.8107\n",
      "Epoch 20/50\n",
      "50/50 [==============================] - 0s 2ms/step - loss: 0.3949 - accuracy: 0.8119\n",
      "Epoch 21/50\n",
      "50/50 [==============================] - 0s 2ms/step - loss: 0.4106 - accuracy: 0.8030\n",
      "Epoch 22/50\n",
      "50/50 [==============================] - 0s 2ms/step - loss: 0.4107 - accuracy: 0.8102\n",
      "Epoch 23/50\n",
      "50/50 [==============================] - 0s 2ms/step - loss: 0.3969 - accuracy: 0.8113\n",
      "Epoch 24/50\n",
      "50/50 [==============================] - 0s 2ms/step - loss: 0.4073 - accuracy: 0.8055\n",
      "Epoch 25/50\n",
      "50/50 [==============================] - 0s 3ms/step - loss: 0.4093 - accuracy: 0.7996\n",
      "Epoch 26/50\n",
      "50/50 [==============================] - 0s 3ms/step - loss: 0.4099 - accuracy: 0.8057\n",
      "Epoch 27/50\n",
      "50/50 [==============================] - 0s 3ms/step - loss: 0.4099 - accuracy: 0.8061\n",
      "Epoch 28/50\n",
      "50/50 [==============================] - 0s 3ms/step - loss: 0.3939 - accuracy: 0.8177\n",
      "Epoch 29/50\n",
      "50/50 [==============================] - 0s 3ms/step - loss: 0.3947 - accuracy: 0.8059\n",
      "Epoch 30/50\n",
      "50/50 [==============================] - 0s 3ms/step - loss: 0.3977 - accuracy: 0.8133\n",
      "Epoch 31/50\n",
      "50/50 [==============================] - 0s 2ms/step - loss: 0.3955 - accuracy: 0.8192\n",
      "Epoch 32/50\n",
      "50/50 [==============================] - 0s 2ms/step - loss: 0.4056 - accuracy: 0.8040\n",
      "Epoch 33/50\n",
      "50/50 [==============================] - 0s 3ms/step - loss: 0.3945 - accuracy: 0.8132\n",
      "Epoch 34/50\n",
      "50/50 [==============================] - 0s 2ms/step - loss: 0.4041 - accuracy: 0.7999\n",
      "Epoch 35/50\n",
      "50/50 [==============================] - 0s 2ms/step - loss: 0.3991 - accuracy: 0.8099\n",
      "Epoch 36/50\n",
      "50/50 [==============================] - 0s 2ms/step - loss: 0.3984 - accuracy: 0.8096\n",
      "Epoch 37/50\n",
      "50/50 [==============================] - 0s 2ms/step - loss: 0.3958 - accuracy: 0.8191\n",
      "Epoch 38/50\n",
      "50/50 [==============================] - 0s 2ms/step - loss: 0.3894 - accuracy: 0.8167\n",
      "Epoch 39/50\n",
      "50/50 [==============================] - 0s 2ms/step - loss: 0.3979 - accuracy: 0.8077\n",
      "Epoch 40/50\n",
      "50/50 [==============================] - 0s 2ms/step - loss: 0.4004 - accuracy: 0.8068\n",
      "Epoch 41/50\n",
      "50/50 [==============================] - 0s 2ms/step - loss: 0.3892 - accuracy: 0.8184\n",
      "Epoch 42/50\n",
      "50/50 [==============================] - 0s 3ms/step - loss: 0.3861 - accuracy: 0.8226\n",
      "Epoch 43/50\n",
      "50/50 [==============================] - 0s 2ms/step - loss: 0.3881 - accuracy: 0.8147\n",
      "Epoch 44/50\n",
      "50/50 [==============================] - 0s 2ms/step - loss: 0.3937 - accuracy: 0.8122\n",
      "Epoch 45/50\n",
      "50/50 [==============================] - 0s 2ms/step - loss: 0.4029 - accuracy: 0.8063\n",
      "Epoch 46/50\n",
      "50/50 [==============================] - 0s 2ms/step - loss: 0.3839 - accuracy: 0.8156\n",
      "Epoch 47/50\n",
      "50/50 [==============================] - 0s 2ms/step - loss: 0.3955 - accuracy: 0.8128\n",
      "Epoch 48/50\n",
      "50/50 [==============================] - 0s 2ms/step - loss: 0.3842 - accuracy: 0.8233\n",
      "Epoch 49/50\n",
      "50/50 [==============================] - 0s 3ms/step - loss: 0.3775 - accuracy: 0.8276\n",
      "Epoch 50/50\n",
      "50/50 [==============================] - 0s 2ms/step - loss: 0.3924 - accuracy: 0.8108\n"
     ]
    },
    {
     "data": {
      "text/plain": [
       "<keras.callbacks.History at 0x12f089cba58>"
      ]
     },
     "execution_count": 28,
     "metadata": {},
     "output_type": "execute_result"
    }
   ],
   "source": [
    "model.fit(X_train, y_train, epochs=50, batch_size=100)"
   ]
  },
  {
   "cell_type": "markdown",
   "metadata": {},
   "source": [
    "##### - Accuracy, Precision, Recall"
   ]
  },
  {
   "cell_type": "code",
   "execution_count": 29,
   "metadata": {},
   "outputs": [],
   "source": [
    "from sklearn.metrics import accuracy_score, precision_score, recall_score"
   ]
  },
  {
   "cell_type": "code",
   "execution_count": 30,
   "metadata": {},
   "outputs": [],
   "source": [
    "in_sample_preds = [round(x[0]) for x in model.predict(X_train)]\n",
    "out_sample_preds = [round(x[0]) for x in model.predict(X_test)]"
   ]
  },
  {
   "cell_type": "code",
   "execution_count": 31,
   "metadata": {},
   "outputs": [
    {
     "name": "stdout",
     "output_type": "stream",
     "text": [
      "In-Sample Accuracy: 0.8155\n",
      "Out-of-Sample Accuracy: 0.8028\n",
      "\n",
      "\n",
      "In-Sample Precision: 0.6807\n",
      "Out-of-Sample Precision: 0.6253\n",
      "\n",
      "\n",
      "In-Sample Recall: 0.5956\n",
      "Out-of-Sample Recall: 0.5767\n"
     ]
    }
   ],
   "source": [
    "print('In-Sample Accuracy: %0.4f' % accuracy_score(y_train, in_sample_preds))\n",
    "print('Out-of-Sample Accuracy: %0.4f' % accuracy_score(y_test, out_sample_preds))\n",
    "\n",
    "print('\\n')\n",
    "\n",
    "print('In-Sample Precision: %0.4f' % precision_score(y_train, in_sample_preds))\n",
    "print('Out-of-Sample Precision: %0.4f' % precision_score(y_test, out_sample_preds))\n",
    "\n",
    "print('\\n')\n",
    "\n",
    "print('In-Sample Recall: %0.4f' % recall_score(y_train, in_sample_preds))\n",
    "print('Out-of-Sample Recall: %0.4f' % recall_score(y_test, out_sample_preds))"
   ]
  },
  {
   "cell_type": "markdown",
   "metadata": {},
   "source": [
    "##### - ROC & AUC"
   ]
  },
  {
   "cell_type": "code",
   "execution_count": 32,
   "metadata": {},
   "outputs": [],
   "source": [
    "from sklearn.metrics import roc_curve, auc"
   ]
  },
  {
   "cell_type": "code",
   "execution_count": 33,
   "metadata": {},
   "outputs": [],
   "source": [
    "in_sample_preds = [x[0] for x in model.predict(X_train)]\n",
    "out_sample_preds = [x[0] for x in model.predict(X_test)]"
   ]
  },
  {
   "cell_type": "code",
   "execution_count": 34,
   "metadata": {},
   "outputs": [],
   "source": [
    "in_sample_fpr, in_sample_tpr, in_sample_thresholds = roc_curve(y_train, in_sample_preds)\n",
    "out_sample_fpr, out_sample_tpr, out_sample_thresholds = roc_curve(y_test, out_sample_preds)"
   ]
  },
  {
   "cell_type": "code",
   "execution_count": 35,
   "metadata": {},
   "outputs": [
    {
     "name": "stdout",
     "output_type": "stream",
     "text": [
      "In-Sample AUC: 0.8687\n",
      "Out-Sample AUC: 0.8490\n"
     ]
    }
   ],
   "source": [
    "in_sample_roc_auc = auc(in_sample_fpr, in_sample_tpr)\n",
    "out_sample_roc_auc = auc(out_sample_fpr, out_sample_tpr)\n",
    "\n",
    "print('In-Sample AUC: %0.4f' % in_sample_roc_auc)\n",
    "print('Out-Sample AUC: %0.4f' % out_sample_roc_auc)"
   ]
  },
  {
   "cell_type": "code",
   "execution_count": 36,
   "metadata": {},
   "outputs": [
    {
     "data": {
      "image/png": "[encoded data removed]",
      "text/plain": [
       "<Figure size 720x504 with 1 Axes>"
      ]
     },
     "metadata": {
      "needs_background": "light"
     },
     "output_type": "display_data"
    }
   ],
   "source": [
    "plt.figure(figsize=(10,7))\n",
    "\n",
    "plt.plot(\n",
    "    out_sample_fpr, out_sample_tpr, color='darkorange', label='Out-Sample ROC curve (area = %0.4f)' % in_sample_roc_auc\n",
    ")\n",
    "plt.plot(\n",
    "    in_sample_fpr, in_sample_tpr, color='navy', label='In-Sample ROC curve (area = %0.4f)' % out_sample_roc_auc\n",
    ")\n",
    "plt.plot([0, 1], [0, 1], color='gray', lw=1, linestyle='--')\n",
    "plt.grid()\n",
    "plt.xlim([0.0, 1.0])\n",
    "plt.ylim([0.0, 1.05])\n",
    "plt.xlabel('False Positive Rate')\n",
    "plt.ylabel('True Positive Rate')\n",
    "plt.title('ROC Curve')\n",
    "plt.legend(loc=\"lower right\")\n",
    "\n",
    "plt.show()"
   ]
  }
 ],
 "metadata": {
  "kernelspec": {
   "display_name": "Python 3",
   "language": "python",
   "name": "python3"
  },
  "language_info": {
   "codemirror_mode": {
    "name": "ipython",
    "version": 3
   },
   "file_extension": ".py",
   "mimetype": "text/x-python",
   "name": "python",
   "nbconvert_exporter": "python",
   "pygments_lexer": "ipython3",
   "version": "3.7.3"
  }
 },
 "nbformat": 4,
 "nbformat_minor": 2
}
